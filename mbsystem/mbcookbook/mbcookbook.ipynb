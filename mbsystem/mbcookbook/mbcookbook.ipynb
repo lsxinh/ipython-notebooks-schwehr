{
 "metadata": {
  "name": "mbcookbook"
 },
 "nbformat": 3,
 "nbformat_minor": 0,
 "worksheets": [
  {
   "cells": [
    {
     "cell_type": "heading",
     "level": 1,
     "metadata": {},
     "source": [
      "Setup"
     ]
    },
    {
     "cell_type": "code",
     "collapsed": false,
     "input": [
      "!wget http://www.ldeo.columbia.edu/res/pi/MB-System/mbcookbook.pdf"
     ],
     "language": "python",
     "metadata": {},
     "outputs": [],
     "prompt_number": 138
    },
    {
     "cell_type": "code",
     "collapsed": false,
     "input": [
      "!open mbcookbook.pdf"
     ],
     "language": "python",
     "metadata": {},
     "outputs": [],
     "prompt_number": 2
    },
    {
     "cell_type": "markdown",
     "metadata": {},
     "source": [
      "Data and source code is available here: ftp://ftp.ldeo.columbia.edu/pub/MB-System"
     ]
    },
    {
     "cell_type": "code",
     "collapsed": false,
     "input": [
      "!wget ftp://ftp.ldeo.columbia.edu/pub/MB-System/mbexamples.tgz"
     ],
     "language": "python",
     "metadata": {},
     "outputs": [],
     "prompt_number": 138
    },
    {
     "cell_type": "code",
     "collapsed": false,
     "input": [
      "!wget ftp://ftp.ldeo.columbia.edu/pub/MB-System/MB-SystemExamples.5.1.0.tar.gz"
     ],
     "language": "python",
     "metadata": {},
     "outputs": []
    },
    {
     "cell_type": "code",
     "collapsed": false,
     "input": [
      "!wget ftp://ftp.ldeo.columbia.edu/pub/MB-System/loihi.tgz"
     ],
     "language": "python",
     "metadata": {},
     "outputs": []
    },
    {
     "cell_type": "code",
     "collapsed": false,
     "input": [
      "# TODO: use python to find the current version number\n",
      "!wget ftp://ftp.ldeo.columbia.edu/pub/MB-System/mbsystem-5.3.2012.tar.gz"
     ],
     "language": "python",
     "metadata": {},
     "outputs": []
    },
    {
     "cell_type": "code",
     "collapsed": false,
     "input": [
      "ls -lh *gz"
     ],
     "language": "python",
     "metadata": {},
     "outputs": [
      {
       "output_type": "stream",
       "stream": "stdout",
       "text": [
        "-rw-r--r--  1 schwehr  5000    26M Feb  2 10:21 MB-SystemExamples.5.1.0.tar.gz\r\n",
        "-rw-r--r--  1 schwehr  5000   375M Feb  2 10:25 loihi.tgz\r\n",
        "-rw-r--r--  1 schwehr  5000    25M Feb  2 10:21 mbexamples.tgz\r\n"
       ]
      }
     ],
     "prompt_number": 12
    },
    {
     "cell_type": "code",
     "collapsed": false,
     "input": [
      "!tar tf mbexamples.tgz | wc -l"
     ],
     "language": "python",
     "metadata": {},
     "outputs": [
      {
       "output_type": "stream",
       "stream": "stdout",
       "text": [
        "     356\r\n"
       ]
      }
     ],
     "prompt_number": 7
    },
    {
     "cell_type": "code",
     "collapsed": false,
     "input": [
      "!tar tfvv mbexamples.tgz | grep -v CVS | head"
     ],
     "language": "python",
     "metadata": {},
     "outputs": [
      {
       "output_type": "stream",
       "stream": "stdout",
       "text": [
        "drwxr-xr-x vschmidt/vschmidt 0 2007-03-09 13:23 mbexamples/\r\n",
        "drwxr-xr-x vschmidt/vschmidt 0 2005-10-31 13:17 mbexamples/mblist/\r\n",
        "-rwxr-xr-x vschmidt/vschmidt 982 2002-10-31 14:07 mbexamples/mblist/mblist.cmd\r\n",
        "drwxr-xr-x vschmidt/vschmidt   0 2005-10-31 13:17 mbexamples/data/\r\n",
        "-rw-r--r-- vschmidt/vschmidt 339293 2002-10-31 14:07 mbexamples/data/example_hs.mb24\r\n",
        "-rw-r--r-- vschmidt/vschmidt   1276 2002-10-31 14:07 mbexamples/data/.gmtdefaults\r\n",
        "-rw-r--r-- vschmidt/vschmidt   1449 2002-10-31 14:07 mbexamples/data/README\r\n",
        "-rw-r--r-- vschmidt/vschmidt  45240 2002-10-31 14:07 mbexamples/data/example_sb.mb16\r\n",
        "-rw-r--r-- vschmidt/vschmidt 508844 2002-10-31 14:07 mbexamples/data/example_sb2000.mb33\r\n",
        "-rw-r--r-- vschmidt/vschmidt  59000 2002-10-31 14:07 mbexamples/data/example_sb.mb11\r\n"
       ]
      }
     ],
     "prompt_number": 11
    },
    {
     "cell_type": "code",
     "collapsed": false,
     "input": [
      "!tar xf mbexamples.tgz"
     ],
     "language": "python",
     "metadata": {},
     "outputs": []
    },
    {
     "cell_type": "code",
     "collapsed": false,
     "input": [
      "ls mbexamples"
     ],
     "language": "python",
     "metadata": {},
     "outputs": [
      {
       "output_type": "stream",
       "stream": "stdout",
       "text": [
        "README             \u001b[34mdata\u001b[m\u001b[m/              \u001b[34mmbbath\u001b[m\u001b[m/            \u001b[34mmbinfo\u001b[m\u001b[m/            \u001b[34mmbm_plot\u001b[m\u001b[m/\r\n",
        "\u001b[34mcookbook_examples\u001b[m\u001b[m/ gridfilelist       \u001b[34mmbgrid\u001b[m\u001b[m/            \u001b[34mmblist\u001b[m\u001b[m/            \u001b[34mxbt\u001b[m\u001b[m/\r\n"
       ]
      }
     ],
     "prompt_number": 13
    },
    {
     "cell_type": "code",
     "collapsed": false,
     "input": [
      "ls mbexamples/cookbook_examples/"
     ],
     "language": "python",
     "metadata": {},
     "outputs": [
      {
       "output_type": "stream",
       "stream": "stdout",
       "text": [
        "\u001b[31mexample_sb.mb16.cmd\u001b[m\u001b[m*     example_sb.mb16.jpg      example_sb_mb16.png      stats                    survey_filelist.124      survey_filelist.124.ps   survey_heading.dat\r\n",
        "example_sb.mb16.gif      example_sb.mb16.ps       \u001b[34mother_data_sets\u001b[m\u001b[m/         stats_percent            \u001b[31msurvey_filelist.124.cmd\u001b[m\u001b[m* survey_heading\r\n"
       ]
      }
     ],
     "prompt_number": 14
    },
    {
     "cell_type": "heading",
     "level": 1,
     "metadata": {},
     "source": [
      "Chapter 3: Surveying Your Survey with MB-System"
     ]
    },
    {
     "cell_type": "heading",
     "level": 2,
     "metadata": {},
     "source": [
      "3.1 Managing Your Data with mbdatalist"
     ]
    },
    {
     "cell_type": "code",
     "collapsed": false,
     "input": [
      "pwd"
     ],
     "language": "python",
     "metadata": {},
     "outputs": [
      {
       "output_type": "pyout",
       "prompt_number": 15,
       "text": [
        "u'/Users/schwehr/Desktop/mbcookbook'"
       ]
      }
     ],
     "prompt_number": 15
    },
    {
     "cell_type": "code",
     "collapsed": false,
     "input": [
      "cd ~/Desktop/mbcookbook/mbexamples/cookbook_examples/other_data_sets/ew0204survey"
     ],
     "language": "python",
     "metadata": {},
     "outputs": [
      {
       "output_type": "stream",
       "stream": "stdout",
       "text": [
        "/Users/schwehr/Desktop/mbcookbook/mbexamples/cookbook_examples/other_data_sets/ew0204survey"
       ]
      },
      {
       "output_type": "stream",
       "stream": "stdout",
       "text": [
        "\n"
       ]
      }
     ],
     "prompt_number": 16
    },
    {
     "cell_type": "code",
     "collapsed": false,
     "input": [
      "ls | head"
     ],
     "language": "python",
     "metadata": {},
     "outputs": [
      {
       "output_type": "stream",
       "stream": "stdout",
       "text": [
        "00020504090010.mb183\r\n",
        "00020504090010.mb183.fbt\r\n",
        "00020504090010.mb183.fnv\r\n",
        "00020504090010.mb183.inf\r\n",
        "00020504091010.mb183\r\n",
        "00020504091010.mb183.fbt\r\n",
        "00020504091010.mb183.fnv\r\n",
        "00020504091010.mb183.inf\r\n",
        "00020504092010.mb183\r\n",
        "00020504092010.mb183.fbt\r\n"
       ]
      }
     ],
     "prompt_number": 18
    },
    {
     "cell_type": "code",
     "collapsed": false,
     "input": [
      "!ls *.mb183 > tmplist\n",
      "!wc -l tmplist"
     ],
     "language": "python",
     "metadata": {},
     "outputs": [
      {
       "output_type": "stream",
       "stream": "stdout",
       "text": [
        "      64 tmplist\r\n"
       ]
      }
     ],
     "prompt_number": 20
    },
    {
     "cell_type": "code",
     "collapsed": false,
     "input": [
      "!mbdatalist -I tmplist | head -4"
     ],
     "language": "python",
     "metadata": {},
     "outputs": [
      {
       "output_type": "stream",
       "stream": "stdout",
       "text": [
        "00020504090010.mb183 183 1.000000\r\n",
        "00020504091010.mb183 183 1.000000\r\n",
        "00020504092010.mb183 183 1.000000\r\n",
        "00020504093010.mb183 183 1.000000\r\n"
       ]
      }
     ],
     "prompt_number": 22
    },
    {
     "cell_type": "code",
     "collapsed": false,
     "input": [
      "!mbdatalist -F-1 -I tmplist | head -4"
     ],
     "language": "python",
     "metadata": {},
     "outputs": [
      {
       "output_type": "stream",
       "stream": "stdout",
       "text": [
        "00020504090010.mb183 183 1.000000\r\n",
        "00020504091010.mb183 183 1.000000\r\n",
        "00020504092010.mb183 183 1.000000\r\n",
        "00020504093010.mb183 183 1.000000\r\n"
       ]
      }
     ],
     "prompt_number": 23
    },
    {
     "cell_type": "code",
     "collapsed": false,
     "input": [
      "!mbdatalist -I tmplist > datalist-1\n",
      "!wc -l datalist-1"
     ],
     "language": "python",
     "metadata": {},
     "outputs": [
      {
       "output_type": "stream",
       "stream": "stdout",
       "text": [
        "      64 datalist-1\r\n"
       ]
      }
     ],
     "prompt_number": 24
    },
    {
     "cell_type": "code",
     "collapsed": false,
     "input": [
      "# I am not sure why the instructions switched to filelist.124 when we already have tmplist\n",
      "!diff filelist.124 tmplist"
     ],
     "language": "python",
     "metadata": {},
     "outputs": [
      {
       "output_type": "stream",
       "stream": "stdout",
       "text": [
        "65d64\r\n",
        "< filelist.124\r\n"
       ]
      }
     ],
     "prompt_number": 25
    },
    {
     "cell_type": "code",
     "collapsed": false,
     "input": [
      "# mbdatalist \"-N\" option creats \"inf\", \"fbt\", and \"fnv\" files.  But we already have them\n",
      "!ls -l 00020504160010.mb183*"
     ],
     "language": "python",
     "metadata": {},
     "outputs": [
      {
       "output_type": "stream",
       "stream": "stdout",
       "text": [
        "-rw-r--r--  1 schwehr  5000  659772 Oct 23  2002 00020504160010.mb183\r\n",
        "-rw-r--r--  1 schwehr  5000   72004 Oct 24  2002 00020504160010.mb183.fbt\r\n",
        "-rw-r--r--  1 schwehr  5000    5808 Oct 24  2002 00020504160010.mb183.fnv\r\n",
        "-rw-r--r--  1 schwehr  5000    2520 Oct 24  2002 00020504160010.mb183.inf\r\n"
       ]
      }
     ],
     "prompt_number": 27
    },
    {
     "cell_type": "code",
     "collapsed": false,
     "input": [
      "# Sadly, the unix file command knows nothing about them\n",
      "!file 00020504160010.mb183*"
     ],
     "language": "python",
     "metadata": {},
     "outputs": [
      {
       "output_type": "stream",
       "stream": "stdout",
       "text": [
        "00020504160010.mb183:     data\r\n",
        "00020504160010.mb183.fbt: data\r\n",
        "00020504160010.mb183.fnv: ASCII text\r\n",
        "00020504160010.mb183.inf: ASCII text\r\n"
       ]
      }
     ],
     "prompt_number": 29
    },
    {
     "cell_type": "code",
     "collapsed": false,
     "input": [
      "!mbdatalist -F-1 -I datalist-1 -R170.133/170.35/42.2/42.4 > survey-datalist\n",
      "!head -4 survey-datalist"
     ],
     "language": "python",
     "metadata": {},
     "outputs": [
      {
       "output_type": "stream",
       "stream": "stdout",
       "text": [
        "00020504100010.mb183 183 1.000000\r\n",
        "00020504101010.mb183 183 1.000000\r\n",
        "00020504102010.mb183 183 1.000000\r\n",
        "00020504103010.mb183 183 1.000000\r\n"
       ]
      }
     ],
     "prompt_number": 30
    },
    {
     "cell_type": "code",
     "collapsed": false,
     "input": [
      "# We loose a whole bunch of files by re\n",
      "!wc -l survey-datalist"
     ],
     "language": "python",
     "metadata": {},
     "outputs": [
      {
       "output_type": "stream",
       "stream": "stdout",
       "text": [
        "      42 survey-datalist\r\n"
       ]
      }
     ],
     "prompt_number": 31
    },
    {
     "cell_type": "heading",
     "level": 2,
     "metadata": {},
     "source": [
      "3.2. Plotting Data"
     ]
    },
    {
     "cell_type": "code",
     "collapsed": false,
     "input": [
      "# Anything else in this directory?\n",
      "!ls | egrep -v 'mb183(.fbt|.fnv|.inf)?$'"
     ],
     "language": "python",
     "metadata": {},
     "outputs": [
      {
       "output_type": "stream",
       "stream": "stdout",
       "text": [
        "datalist-1\r\n",
        "filelist.124\r\n",
        "survey-datalist\r\n",
        "tmplist\r\n"
       ]
      }
     ],
     "prompt_number": 32
    },
    {
     "cell_type": "code",
     "collapsed": false,
     "input": [
      "# Make a navigation plot\n",
      "!mbm_plot -I survey-datalist -N"
     ],
     "language": "python",
     "metadata": {},
     "outputs": [
      {
       "output_type": "stream",
       "stream": "stdout",
       "text": [
        "\r\n",
        "Plot generation shellscript <survey-datalist.cmd> created.\r\n",
        "\r\n",
        "Instructions:\r\n",
        "  Execute <survey-datalist.cmd> to generate Postscript plot <survey-datalist.ps>.\r\n",
        "  Executing <survey-datalist.cmd> also invokes ghostview to view the plot on the screen.\r\n"
       ]
      }
     ],
     "prompt_number": 58
    },
    {
     "cell_type": "code",
     "collapsed": false,
     "input": [
      "!ls -ltr | tail -3"
     ],
     "language": "python",
     "metadata": {},
     "outputs": [
      {
       "output_type": "stream",
       "stream": "stdout",
       "text": [
        "-rw-r--r--  1 schwehr  5000  234941 Feb  2 11:06 survey-datalist.png\r\n",
        "-rw-r--r--  1 schwehr  5000  597651 Feb  2 19:48 survey-datalist.ps\r\n",
        "-rwxrwxr-x  1 schwehr  5000    1797 Feb  2 19:49 survey-datalist.cmd\r\n"
       ]
      }
     ],
     "prompt_number": 59
    },
    {
     "cell_type": "code",
     "collapsed": false,
     "input": [
      "# Ouch... csh script\n",
      "!head -1 survey-datalist.cmd"
     ],
     "language": "python",
     "metadata": {},
     "outputs": [
      {
       "output_type": "stream",
       "stream": "stdout",
       "text": [
        "#! /bin/csh -f\r\n"
       ]
      }
     ],
     "prompt_number": 60
    },
    {
     "cell_type": "code",
     "collapsed": false,
     "input": [
      "!./survey-datalist.cmd 2>&1 | tail -5"
     ],
     "language": "python",
     "metadata": {},
     "outputs": [
      {
       "output_type": "stream",
       "stream": "stdout",
       "text": [
        "Resetting GMT fonts...\r\n",
        "Running ghostview in background...\r\n",
        "[1] 87556\r\n",
        "All done!\r\n",
        "ghostview: Command not found.\r\n"
       ]
      }
     ],
     "prompt_number": 61
    },
    {
     "cell_type": "code",
     "collapsed": false,
     "input": [
      "!ls -ltr | tail -3"
     ],
     "language": "python",
     "metadata": {},
     "outputs": [
      {
       "output_type": "stream",
       "stream": "stdout",
       "text": [
        "-rw-r--r--  1 schwehr  5000    1428 Feb  2 10:44 survey-datalist\r\n",
        "-rwxrwxr-x  1 schwehr  5000    1797 Feb  2 10:49 survey-datalist.cmd\r\n",
        "-rw-r--r--  1 schwehr  5000   37368 Feb  2 10:50 survey-datalist.ps\r\n"
       ]
      }
     ],
     "prompt_number": 37
    },
    {
     "cell_type": "code",
     "collapsed": false,
     "input": [
      "# I do not have ghostscript setup on my machine, so make a PNG image\n",
      "# with ImageMagick/GraphicsMagick and open that\n",
      "!convert survey-datalist.ps survey-datalist.png"
     ],
     "language": "python",
     "metadata": {},
     "outputs": [],
     "prompt_number": 38
    },
    {
     "cell_type": "code",
     "collapsed": false,
     "input": [
      "im = imread('survey-datalist.png')\n",
      "imshow(im, cmap=get_cmap('gray'))"
     ],
     "language": "python",
     "metadata": {},
     "outputs": [
      {
       "output_type": "pyout",
       "prompt_number": 40,
       "text": [
        "<matplotlib.image.AxesImage at 0x10f515b10>"
       ]
      },
      {
       "output_type": "display_data",
       "png": "[encoded data removed]"
      }
     ],
     "prompt_number": 40
    },
    {
     "cell_type": "code",
     "collapsed": false,
     "input": [
      "# Make a color filled plot\n",
      "!mbm_plot -I survey-datalist -G1"
     ],
     "language": "python",
     "metadata": {},
     "outputs": [
      {
       "output_type": "stream",
       "stream": "stdout",
       "text": [
        "\r\n",
        "Plot generation shellscript <survey-datalist.cmd> created.\r\n",
        "\r\n",
        "Instructions:\r\n",
        "  Execute <survey-datalist.cmd> to generate Postscript plot <survey-datalist.ps>.\r\n",
        "  Executing <survey-datalist.cmd> also invokes ghostview to view the plot on the screen.\r\n"
       ]
      }
     ],
     "prompt_number": 41
    },
    {
     "cell_type": "code",
     "collapsed": false,
     "input": [
      "!./survey-datalist.cmd 2>&1 | tail -5"
     ],
     "language": "python",
     "metadata": {},
     "outputs": [
      {
       "output_type": "stream",
       "stream": "stdout",
       "text": [
        "Resetting GMT fonts...\r\n",
        "Running ghostview in background...\r\n",
        "[1] 87581\r\n",
        "All done!\r\n",
        "ghostview: Command not found.\r\n"
       ]
      }
     ],
     "prompt_number": 62
    },
    {
     "cell_type": "code",
     "collapsed": false,
     "input": [
      "!convert survey-datalist.ps survey-datalist.png"
     ],
     "language": "python",
     "metadata": {},
     "outputs": [],
     "prompt_number": 43
    },
    {
     "cell_type": "code",
     "collapsed": false,
     "input": [
      "im = imread('survey-datalist.png')\n",
      "imshow(im)"
     ],
     "language": "python",
     "metadata": {},
     "outputs": [
      {
       "output_type": "pyout",
       "prompt_number": 45,
       "text": [
        "<matplotlib.image.AxesImage at 0x1122c2550>"
       ]
      },
      {
       "output_type": "display_data",
       "png": "[encoded data removed]"
      }
     ],
     "prompt_number": 45
    },
    {
     "cell_type": "code",
     "collapsed": false,
     "input": [
      "# Contours, color and navigation\n",
      "!mbm_plot -I survey-datalist -G1 -N -C"
     ],
     "language": "python",
     "metadata": {},
     "outputs": [
      {
       "output_type": "stream",
       "stream": "stdout",
       "text": [
        "\r\n",
        "Plot generation shellscript <survey-datalist.cmd> created.\r\n",
        "\r\n",
        "Instructions:\r\n",
        "  Execute <survey-datalist.cmd> to generate Postscript plot <survey-datalist.ps>.\r\n",
        "  Executing <survey-datalist.cmd> also invokes ghostview to view the plot on the screen.\r\n"
       ]
      }
     ],
     "prompt_number": 50
    },
    {
     "cell_type": "code",
     "collapsed": false,
     "input": [
      "!./survey-datalist.cmd 2>&1 | tail -5"
     ],
     "language": "python",
     "metadata": {},
     "outputs": [
      {
       "output_type": "stream",
       "stream": "stdout",
       "text": [
        "Resetting GMT fonts...\r\n",
        "Running ghostview in background...\r\n",
        "[1] 87515\r\n",
        "All done!\r\n",
        "ghostview: Command not found.\r\n"
       ]
      }
     ],
     "prompt_number": 57
    },
    {
     "cell_type": "code",
     "collapsed": false,
     "input": [
      "!convert survey-datalist.ps survey-datalist.png\n",
      "im = imread('survey-datalist.png')\n",
      "imshow(im)"
     ],
     "language": "python",
     "metadata": {},
     "outputs": [
      {
       "output_type": "pyout",
       "prompt_number": 53,
       "text": [
        "<matplotlib.image.AxesImage at 0x1131032d0>"
       ]
      },
      {
       "output_type": "display_data",
       "png": "[encoded data removed]"
      }
     ],
     "prompt_number": 53
    },
    {
     "cell_type": "code",
     "collapsed": false,
     "input": [
      "# Shaded relief plot of the bathymetry\n",
      "!mbm_plot -I survey-datalist -G2\n",
      "!./survey-datalist.cmd 2>&1 | tail -5\n",
      "!convert survey-datalist.ps survey-datalist.png\n",
      "im = imread('survey-datalist.png')\n",
      "imshow(im)"
     ],
     "language": "python",
     "metadata": {},
     "outputs": [
      {
       "output_type": "stream",
       "stream": "stdout",
       "text": [
        "\r\n",
        "Plot generation shellscript <survey-datalist.cmd> created.\r\n",
        "\r\n",
        "Instructions:\r\n",
        "  Execute <survey-datalist.cmd> to generate Postscript plot <survey-datalist.ps>.\r\n",
        "  Executing <survey-datalist.cmd> also invokes ghostview to view the plot on the screen.\r\n"
       ]
      },
      {
       "output_type": "stream",
       "stream": "stdout",
       "text": [
        "Resetting GMT fonts...\r\n",
        "Running ghostview in background...\r\n",
        "[1] 68348\r\n",
        "All done!\r\n",
        "ghostview: Command not found.\r\n"
       ]
      },
      {
       "output_type": "pyout",
       "prompt_number": 54,
       "text": [
        "<matplotlib.image.AxesImage at 0x113a99090>"
       ]
      },
      {
       "output_type": "display_data",
       "png": "[encoded data removed]"
      }
     ],
     "prompt_number": 54
    },
    {
     "cell_type": "code",
     "collapsed": false,
     "input": [
      "# Multibeam backscatter plot\n",
      "!mbm_plot -I survey-datalist -G5\n",
      "!./survey-datalist.cmd 2>&1 | tail -5\n",
      "!convert survey-datalist.ps survey-datalist.png\n",
      "im = imread('survey-datalist.png')\n",
      "imshow(im)"
     ],
     "language": "python",
     "metadata": {},
     "outputs": [
      {
       "output_type": "stream",
       "stream": "stdout",
       "text": [
        "\r\n",
        "Plot generation shellscript <survey-datalist.cmd> created.\r\n",
        "\r\n",
        "Instructions:\r\n",
        "  Execute <survey-datalist.cmd> to generate Postscript plot <survey-datalist.ps>.\r\n",
        "  Executing <survey-datalist.cmd> also invokes ghostview to view the plot on the screen.\r\n"
       ]
      },
      {
       "output_type": "stream",
       "stream": "stdout",
       "text": [
        "Resetting GMT fonts...\r\n",
        "Running ghostview in background...\r\n",
        "[1] 68390\r\n",
        "All done!\r\n",
        "ghostview: Command not found.\r\n"
       ]
      },
      {
       "output_type": "pyout",
       "prompt_number": 55,
       "text": [
        "<matplotlib.image.AxesImage at 0x11445f410>"
       ]
      },
      {
       "output_type": "display_data",
       "png": "[encoded data removed]"
      }
     ],
     "prompt_number": 55
    },
    {
     "cell_type": "heading",
     "level": 2,
     "metadata": {},
     "source": [
      "3.3 Extracting Statistics"
     ]
    },
    {
     "cell_type": "code",
     "collapsed": false,
     "input": [
      "pwd"
     ],
     "language": "python",
     "metadata": {},
     "outputs": [
      {
       "output_type": "pyout",
       "prompt_number": 56,
       "text": [
        "u'/Users/schwehr/Desktop/mbcookbook/mbexamples/cookbook_examples/other_data_sets/ew0204survey'"
       ]
      }
     ],
     "prompt_number": 56
    },
    {
     "cell_type": "code",
     "collapsed": false,
     "input": [
      "!mbinfo -I00020504090010.mb183"
     ],
     "language": "python",
     "metadata": {},
     "outputs": [
      {
       "output_type": "stream",
       "stream": "stdout",
       "text": [
        "\r\n",
        "Swath Data File:      00020504090010.mb183\r\n",
        "MBIO Data Format ID:  183\r\n",
        "Format name:          MBF_HSDS2LAM\r\n",
        "Informal Description: L-DEO HSDS2 processing format\r\n",
        "Attributes:           STN Atlas multibeam sonars, \r\n",
        "                      Hydrosweep DS2, Hydrosweep MD, \r\n",
        "                      Fansweep 10, Fansweep 20, \r\n",
        "                      bathymetry, amplitude, and sidescan,\r\n",
        "                      up to 1440 beams and 4096 pixels,\r\n",
        "                      XDR binary, L-DEO.\r\n",
        "\r\n",
        "Data Totals:\r\n",
        "Number of Records:                          37\r\n",
        "Bathymetry Data (140 beams):\r\n",
        "  Number of Beams:             5180\r\n",
        "  Number of Good Beams:        5106     98.57%\r\n",
        "  Number of Zero Beams:          74      1.43%\r\n",
        "  Number of Flagged Beams:        0      0.00%\r\n",
        "Amplitude Data (140 beams):\r\n",
        "  Number of Beams:             5180\r\n",
        "  Number of Good Beams:        5106     98.57%\r\n",
        "  Number of Zero Beams:          74      1.43%\r\n",
        "  Number of Flagged Beams:        0      0.00%\r\n",
        "Sidescan Data (2180 pixels):\r\n",
        "  Number of Pixels:           73815\r\n",
        "  Number of Good Pixels:      73815     100.00%\r\n",
        "  Number of Zero Pixels:          0      0.00%\r\n",
        "  Number of Flagged Pixels:       0      0.00%\r\n",
        "\r\n",
        "Navigation Totals:\r\n",
        "Total Time:             0.1593 hours\r\n",
        "Total Track Length:     3.4493 km\r\n",
        "Average Speed:         21.6521 km/hr (11.7038 knots)\r\n",
        "\r\n",
        "Start of Data:\r\n",
        "Time:  05 04 2002 08:59:56.460000  JD124 (2002-05-04T08:59:56.460000)\r\n",
        "Lon:   169.879233333     Lat:    42.134316667     Depth:  5057.7613 meters\r\n",
        "Speed:  0.000"
       ]
      },
      {
       "output_type": "stream",
       "stream": "stdout",
       "text": [
        "0 km/hr ( 0.0000 knots)  Heading:  46.1206 degrees\r\n",
        "Sonar Depth:    5.8000 m  Sonar Altitude: 5051.9613 m\r\n",
        "\r\n",
        "End of Data:\r\n",
        "Time:  05 04 2002 09:09:29.968000  JD124 (2002-05-04T09:09:29.968000)\r\n",
        "Lon:   169.908366667     Lat:    42.156333333     Depth:  4950.8452 meters\r\n",
        "Speed: 21.0345 km/hr (11.3700 knots)  Heading:  43.9014 degrees\r\n",
        "Sonar Depth:    5.1000 m  Sonar Altitude: 4945.7452 m\r\n",
        "\r\n",
        "Limits:\r\n",
        "Minimum Longitude:     169.826833737   Maximum Longitude:     169.960536614\r\n",
        "Minimum Latitude:       42.096614600   Maximum Latitude:       42.197029161\r\n",
        "Minimum Sonar Depth:     4.6000   Maximum Sonar Depth:     6.7000\r\n",
        "Minimum Altitude:     4817.2718   Maximum Altitude:     5051.9613\r\n",
        "Minimum Depth:        4770.9467   Maximum Depth:        5347.7265\r\n",
        "Minimum Amplitude:       7.0000   Maximum Amplitude:     241.0000\r\n",
        "Minimum Sidescan:        0.0000   Maximum Sidescan:      255.0000\r\n"
       ]
      }
     ],
     "prompt_number": 64
    },
    {
     "cell_type": "code",
     "collapsed": false,
     "input": [
      "!mbinfo -F-1 -Isurvey-datalist | wc -l"
     ],
     "language": "python",
     "metadata": {},
     "outputs": [
      {
       "output_type": "stream",
       "stream": "stdout",
       "text": [
        "     506\r\n"
       ]
      }
     ],
     "prompt_number": 68
    },
    {
     "cell_type": "code",
     "collapsed": false,
     "input": [
      "!mbinfo -F-1 -Isurvey-datalist | head -20"
     ],
     "language": "python",
     "metadata": {},
     "outputs": [
      {
       "output_type": "stream",
       "stream": "stdout",
       "text": [
        "\r\n",
        "Swath Data File:      00020504100010.mb183\r\n",
        "MBIO Data Format ID:  183\r\n",
        "Format name:          MBF_HSDS2LAM\r\n",
        "Informal Description: L-DEO HSDS2 processing format\r\n",
        "Attributes:           STN Atlas multibeam sonars, \r\n",
        "                      Hydrosweep DS2, Hydrosweep MD, \r\n",
        "                      Fansweep 10, Fansweep 20, \r\n",
        "                      bathymetry, amplitude, and sidescan,\r\n",
        "                      up to 1440 beams and 4096 pixels,\r\n",
        "                      XDR binary, L-DEO.\r\n",
        "\r\n",
        "Swath Data File:      00020504101010.mb183\r\n",
        "MBIO Data Format ID:  183\r\n",
        "Format name:          MBF_HSDS2LAM\r\n",
        "Informal Description: L-DEO HSDS2 processing format\r\n",
        "Attributes:           STN Atlas multibeam sonars, \r\n",
        "                      Hydrosweep DS2, Hydrosweep MD, \r\n",
        "                      Fansweep 10, Fansweep 20, \r\n",
        "                      bathymetry, amplitude, and sidescan,\r\n"
       ]
      }
     ],
     "prompt_number": 70
    },
    {
     "cell_type": "code",
     "collapsed": false,
     "input": [
      "!mbinfo -F-1 -Isurvey-datalist | tail -20"
     ],
     "language": "python",
     "metadata": {},
     "outputs": [
      {
       "output_type": "stream",
       "stream": "stdout",
       "text": [
        "Start of Data:\r\n",
        "Time:  05 04 2002 09:59:44.485000  JD124 (2002-05-04T09:59:44.485000)\r\n",
        "Lon:   170.062583333     Lat:    42.272616667     Depth:  4508.8810 meters\r\n",
        "Speed:  0.0000 km/hr ( 0.0000 knots)  Heading:  44.6704 degrees\r\n",
        "Sonar Depth:    6.0000 m  Sonar Altitude: 4502.8810 m\r\n",
        "\r\n",
        "End of Data:\r\n",
        "Time:  05 04 2002 16:59:44.722000  JD124 (2002-05-04T16:59:44.722000)\r\n",
        "Lon:   170.271766667     Lat:    42.420866667     Depth:  1446.6716 meters\r\n",
        "Speed: 21.4741 km/hr (11.6076 knots)  Heading:  35.9473 degrees\r\n",
        "Sonar Depth:    5.4000 m  Sonar Altitude: 1441.2716 m\r\n",
        "\r\n",
        "Limits:\r\n",
        "Minimum Longitude:     170.003974345   Maximum Longitude:     170.361588384\r\n",
        "Minimum Latitude:       42.161915723   Maximum Latitude:       42.446878937\r\n",
        "Minimum Sonar Depth:     3.6000   Maximum Sonar Depth:     7.9000\r\n",
        "Minimum Altitude:      990.7620   Maximum Altitude:     4740.1799\r\n",
        "Minimum Depth:         973.2481   Maximum Depth:        6223.7055\r\n",
        "Minimum Amplitude:       0.0000   Maximum Amplitude:     250.0000\r\n",
        "Minimum Sidescan:        0.0000   Maximum Sidescan:      255.0000\r\n"
       ]
      }
     ],
     "prompt_number": 71
    },
    {
     "cell_type": "heading",
     "level": 1,
     "metadata": {},
     "source": [
      "Chapter 4: Processing Multibeam Data with MB-System"
     ]
    },
    {
     "cell_type": "heading",
     "level": 2,
     "metadata": {},
     "source": [
      "4.2: Identifying the MB-System Data Format"
     ]
    },
    {
     "cell_type": "code",
     "collapsed": false,
     "input": [
      "pwd"
     ],
     "language": "python",
     "metadata": {},
     "outputs": [
      {
       "output_type": "pyout",
       "prompt_number": 73,
       "text": [
        "u'/Users/schwehr/Desktop/mbcookbook/mbexamples/cookbook_examples/other_data_sets/ew0204survey'"
       ]
      }
     ],
     "prompt_number": 73
    },
    {
     "cell_type": "code",
     "collapsed": false,
     "input": [
      "!ls | head -5"
     ],
     "language": "python",
     "metadata": {},
     "outputs": [
      {
       "output_type": "stream",
       "stream": "stdout",
       "text": [
        "00020504090010.mb183\r\n",
        "00020504090010.mb183.fbt\r\n",
        "00020504090010.mb183.fnv\r\n",
        "00020504090010.mb183.inf\r\n",
        "00020504091010.mb183\r\n"
       ]
      }
     ],
     "prompt_number": 74
    },
    {
     "cell_type": "code",
     "collapsed": false,
     "input": [
      "!man mbio | grep -A 10 183"
     ],
     "language": "python",
     "metadata": {},
     "outputs": [
      {
       "output_type": "stream",
       "stream": "stdout",
       "text": [
        "           MBIO Data Format ID:  183\r\n",
        "           Format name:          MBF_HSDS2LAM\r\n",
        "           Informal Description: L-DEO HSDS2 processing format\r\n",
        "           Attributes:           STN Atlas multibeam sonars,\r\n",
        "                        Hydrosweep DS2, Hydrosweep MD,\r\n",
        "                        Fansweep 10, Fansweep 20,\r\n",
        "                        bathymetry, amplitude, and sidescan,\r\n",
        "                        up to 1440 beams and 4096 pixels,\r\n",
        "                        XDR binary, L-DEO.\r\n",
        "\r\n",
        "\r\n"
       ]
      }
     ],
     "prompt_number": 75
    },
    {
     "cell_type": "heading",
     "level": 2,
     "metadata": {},
     "source": [
      "4.3: Format Conversion"
     ]
    },
    {
     "cell_type": "heading",
     "level": 3,
     "metadata": {},
     "source": [
      "4.3.3 Converting Your Data - Sea Beam 2100"
     ]
    },
    {
     "cell_type": "code",
     "collapsed": false,
     "input": [
      "!man mbio | grep -B 2 'SeaBeam 2100'"
     ],
     "language": "python",
     "metadata": {},
     "outputs": [
      {
       "output_type": "stream",
       "stream": "stdout",
       "text": [
        "           MBIO Data Format ID:  41\r\n",
        "           Format name:          MBF_SB2100RW\r\n",
        "           Informal Description: SeaBeam 2100 series vender format\r\n",
        "           Attributes:           SeaBeam 2100, bathymetry,\r\n",
        "--\r\n",
        "           MBIO Data Format ID:  42\r\n",
        "           Format name:          MBF_SB2100B1\r\n",
        "           Informal Description: SeaBeam 2100 series vender format\r\n",
        "           Attributes:           SeaBeam 2100, bathymetry,\r\n",
        "--\r\n",
        "           MBIO Data Format ID:  43\r\n",
        "           Format name:          MBF_SB2100B2\r\n",
        "           Informal Description: SeaBeam 2100 series vender format\r\n",
        "           Attributes:           SeaBeam 2100, bathymetry and\r\n"
       ]
      },
      {
       "output_type": "stream",
       "stream": "stdout",
       "text": [
        "--\r\n",
        "       The  per-beam  parameters  in  the  SB2100 data format include angle-from-vertical and angle-forward. Angle-from-vertical is the same as theta except that it is\r\n",
        "       signed based on the acrosstrack direction (positive to starboard, negative to port). The angle-forward values are also defined slightly differently from phi, in\r\n",
        "       that  angle-forward  is signed differently on the port and starboard sides. The SeaBeam 2100 External Interface Specifications document includes both discussion\r\n"
       ]
      }
     ],
     "prompt_number": 76
    },
    {
     "cell_type": "code",
     "collapsed": false,
     "input": [
      "pwd"
     ],
     "language": "python",
     "metadata": {},
     "outputs": [
      {
       "output_type": "pyout",
       "prompt_number": 85,
       "text": [
        "u'/Users/schwehr/Desktop/mbcookbook/mbexamples'"
       ]
      }
     ],
     "prompt_number": 85
    },
    {
     "cell_type": "code",
     "collapsed": false,
     "input": [
      "# What mb### do we have for the files in the examples?\n",
      "!find . | egrep '\\.mb[0-9]+$' | xargs basename | cut -d\\. -f2 | sort -u"
     ],
     "language": "python",
     "metadata": {},
     "outputs": [
      {
       "output_type": "stream",
       "stream": "stdout",
       "text": [
        "mb11\r\n",
        "mb16\r\n",
        "mb183\r\n",
        "mb24\r\n",
        "mb32\r\n",
        "mb33\r\n"
       ]
      }
     ],
     "prompt_number": 86
    },
    {
     "cell_type": "code",
     "collapsed": false,
     "input": [
      "# Of a slightly more (but not totally) python way of getting this list.  Not a particularly good style\n",
      "all_files = !find . | egrep '\\.mb[0-9]+$'\n",
      "import os\n",
      "ext_list = [os.path.splitext(filepath)[1].replace('.mb','') for filepath in all_files]\n",
      "sorted([int(mb_fmt_num) for mb_fmt_num in set(ext_list)])"
     ],
     "language": "python",
     "metadata": {},
     "outputs": [
      {
       "output_type": "pyout",
       "prompt_number": 91,
       "text": [
        "[11, 16, 24, 32, 33, 183]"
       ]
      }
     ],
     "prompt_number": 91
    },
    {
     "cell_type": "markdown",
     "metadata": {},
     "source": [
      "\"You will find that the data files [snip] have already been converted to MB-system Format ID 57\".  Really?  Oh, I have to unpack loihi.tgz."
     ]
    },
    {
     "cell_type": "code",
     "collapsed": false,
     "input": [
      "cd .."
     ],
     "language": "python",
     "metadata": {},
     "outputs": [
      {
       "output_type": "stream",
       "stream": "stdout",
       "text": [
        "/Users/schwehr/Desktop/mbcookbook\n"
       ]
      }
     ],
     "prompt_number": 92
    },
    {
     "cell_type": "code",
     "collapsed": false,
     "input": [
      "ls -lh loihi.tgz"
     ],
     "language": "python",
     "metadata": {},
     "outputs": [
      {
       "output_type": "stream",
       "stream": "stdout",
       "text": [
        "-rw-r--r--  1 schwehr  5000   375M Feb  2 10:25 loihi.tgz\r\n"
       ]
      }
     ],
     "prompt_number": 94
    },
    {
     "cell_type": "code",
     "collapsed": false,
     "input": [
      "!tar xf loihi.tgz"
     ],
     "language": "python",
     "metadata": {},
     "outputs": [],
     "prompt_number": 95
    },
    {
     "cell_type": "code",
     "collapsed": false,
     "input": [
      "!du -hs loihi"
     ],
     "language": "python",
     "metadata": {},
     "outputs": [
      {
       "output_type": "stream",
       "stream": "stdout",
       "text": [
        "661M\tloihi\r\n"
       ]
      }
     ],
     "prompt_number": 96
    },
    {
     "cell_type": "code",
     "collapsed": false,
     "input": [
      "cd loihi"
     ],
     "language": "python",
     "metadata": {},
     "outputs": [
      {
       "output_type": "stream",
       "stream": "stdout",
       "text": [
        "/Users/schwehr/Desktop/mbcookbook/loihi"
       ]
      },
      {
       "output_type": "stream",
       "stream": "stdout",
       "text": [
        "\n"
       ]
      }
     ],
     "prompt_number": 99
    },
    {
     "cell_type": "code",
     "collapsed": false,
     "input": [
      "# TODO: show a cleaner way to do this with just python\n",
      "all_files = !find . | egrep '\\.mb[0-9]+$'\n",
      "ext_list = [os.path.splitext(filepath)[1].replace('.mb','') for filepath in all_files]\n",
      "sorted([int(mb_fmt_num) for mb_fmt_num in set(ext_list)])"
     ],
     "language": "python",
     "metadata": {},
     "outputs": [
      {
       "output_type": "pyout",
       "prompt_number": 100,
       "text": [
        "[16, 57, 121]"
       ]
      }
     ],
     "prompt_number": 100
    },
    {
     "cell_type": "code",
     "collapsed": false,
     "input": [
      "!man mbio | egrep -A 4 'ID:[ ]+(16|57)$'"
     ],
     "language": "python",
     "metadata": {},
     "outputs": [
      {
       "output_type": "stream",
       "stream": "stdout",
       "text": [
        "           MBIO Data Format ID:  16\r\n",
        "           Format name:          MBF_SBSIOSWB\r\n",
        "           Informal Description: SIO Swath-bathy SeaBeam\r\n",
        "           Attributes:           Sea Beam, bathymetry, 19 beams,\r\n",
        "                                 binary, centered, SIO.\r\n",
        "--\r\n",
        "           MBIO Data Format ID:  57\r\n",
        "           Format name:          MBF_EM300MBA\r\n",
        "           Informal Description: Simrad multibeam processing format\r\n",
        "           Attributes:           Old and new Simrad multibeams,\r\n",
        "                        EM12S, EM12D, EM121, EM120,\r\n"
       ]
      }
     ],
     "prompt_number": 107
    },
    {
     "cell_type": "code",
     "collapsed": false,
     "input": [
      "!find . -name \\*.mb16"
     ],
     "language": "python",
     "metadata": {},
     "outputs": [
      {
       "output_type": "stream",
       "stream": "stdout",
       "text": [
        "./TUNE04WT/TUNE04WT.SWSB.91oct07p.mb16\r\n",
        "./TUNE04WT/TUNE04WT.SWSB.91oct08p.mb16\r\n",
        "./TUNE04WT/TUNE04WT.SWSB.91oct09p.mb16\r\n",
        "./TUNE04WT/TUNE04WT.SWSB.91oct10p.mb16\r\n",
        "./TUNE04WT/TUNE04WT.SWSB.91oct11p.mb16\r\n",
        "./TUNE04WT/TUNE04WT.SWSB.91oct12p.mb16\r\n",
        "./TUNE04WT/TUNE04WT.SWSB.91oct15p.mb16\r\n",
        "./TUNE04WT/TUNE04WT.SWSB.91oct16p.mb16\r\n",
        "./TUNE04WT/TUNE04WT.SWSB.91oct17p.mb16\r\n"
       ]
      }
     ],
     "prompt_number": 101
    },
    {
     "cell_type": "code",
     "collapsed": false,
     "input": [
      "!cp ./TUNE04WT/TUNE04WT.SWSB.91oct07p.mb16 test.mb16"
     ],
     "language": "python",
     "metadata": {},
     "outputs": [],
     "prompt_number": 102
    },
    {
     "cell_type": "code",
     "collapsed": false,
     "input": [
      "!mbinfo -Itest.mb16 | grep Minimum"
     ],
     "language": "python",
     "metadata": {},
     "outputs": [
      {
       "output_type": "stream",
       "stream": "stdout",
       "text": [
        "Minimum Longitude:    -157.806590278   Maximum Longitude:    -155.714683638\r\n",
        "Minimum Latitude:       18.867588784   Maximum Latitude:       21.210987915\r\n",
        "Minimum Sonar Depth:     0.0000   Maximum Sonar Depth:     0.0000\r\n",
        "Minimum Altitude:        0.0000   Maximum Altitude:     4805.0000\r\n",
        "Minimum Depth:          43.0000   Maximum Depth:        4886.0000\r\n"
       ]
      }
     ],
     "prompt_number": 108
    },
    {
     "cell_type": "code",
     "collapsed": false,
     "input": [
      "# This does not work, so I will just paste in the results I got from the command line\n",
      "!mbcopy -F16/57 -Itest.mb16 -Otest.mb57"
     ],
     "language": "python",
     "metadata": {},
     "outputs": [],
     "prompt_number": 109
    },
    {
     "cell_type": "markdown",
     "metadata": {},
     "source": [
      "Ran this:\n",
      "\n",
      "    mbcopy -F16/57 -Itest.mb16 -Otest.mb57 -V\n",
      "\n",
      "Got this:\n",
      "\n",
      "    Program MBcopy\n",
      "    Version $Id: mbcopy.c 1934 2012-02-22 07:51:16Z caress $\n",
      "    MB-system Version 5.3.2012\n",
      "    \n",
      "    Comments:\n",
      "    Swath data modified by program mbprocess\n",
      "    Segmentation fault: 11"
     ]
    },
    {
     "cell_type": "code",
     "collapsed": false,
     "input": [
      "!rm test.mb16 test.mb57"
     ],
     "language": "python",
     "metadata": {},
     "outputs": [],
     "prompt_number": 110
    },
    {
     "cell_type": "code",
     "collapsed": false,
     "input": [
      "!find . -name \\*.mb57"
     ],
     "language": "python",
     "metadata": {},
     "outputs": [
      {
       "output_type": "stream",
       "stream": "stdout",
       "text": [
        "./MBARI1998EM300/mbari_1998_53_msn.mb57\r\n",
        "./MBARI1998EM300/mbari_1998_54_msn.mb57\r\n",
        "./MBARI1998EM300/mbari_1998_55_msn.mb57\r\n",
        "./MBARI1998EM300/mbari_1998_56_msn.mb57\r\n",
        "./MBARI1998EM300/mbari_1998_57_msn.mb57\r\n",
        "./MBARI1998EM300/mbari_1998_58_msn.mb57\r\n",
        "./MBARI1998EM300/mbari_1998_59_msn.mb57\r\n",
        "./MBARI1998EM300/mbari_1998_60_msn.mb57\r\n",
        "./MBARI1998EM300/mbari_1998_61_msn.mb57\r\n"
       ]
      }
     ],
     "prompt_number": 111
    },
    {
     "cell_type": "heading",
     "level": 2,
     "metadata": {},
     "source": [
      "4.4 Survey and Organize the Data"
     ]
    },
    {
     "cell_type": "code",
     "collapsed": false,
     "input": [
      "ls -lh"
     ],
     "language": "python",
     "metadata": {},
     "outputs": [
      {
       "output_type": "stream",
       "stream": "stdout",
       "text": [
        "total 24\r\n",
        "drwxr-xr-x  156 schwehr  5000   5.2K Jun  4  2004 \u001b[34mHUGO97\u001b[m\u001b[m/\r\n",
        "drwxr-xr-x   13 schwehr  5000   442B Jun  4  2004 \u001b[34mMBARI1998EM300\u001b[m\u001b[m/\r\n",
        "-rw-r--r--    1 schwehr  5000   1.8K Jul  3  2004 README\r\n",
        "drwxr-xr-x   58 schwehr  5000   1.9K Jun  4  2004 \u001b[34mSumnerLoihi1997\u001b[m\u001b[m/\r\n",
        "drwxr-xr-x   68 schwehr  5000   2.3K Jun  4  2004 \u001b[34mTUNE04WT\u001b[m\u001b[m/\r\n",
        "-rw-r--r--    1 schwehr  5000   135B Nov 25  2002 datalist.mb-1\r\n",
        "-rw-r--r--    1 schwehr  5000    25B Nov 18  2002 datalistp.mb-1\r\n"
       ]
      }
     ],
     "prompt_number": 112
    },
    {
     "cell_type": "code",
     "collapsed": false,
     "input": [
      "cat datalist.mb-1"
     ],
     "language": "python",
     "metadata": {},
     "outputs": [
      {
       "output_type": "stream",
       "stream": "stdout",
       "text": [
        "HUGO97/datalist.mb-1 -1 100.0\r\n",
        "MBARI1998EM300/datalist.mb-1 -1 1.0\r\n",
        "SumnerLoihi1997/datalist.mb-1 -1 0.1\r\n",
        "TUNE04WT/datalist.mb-1 -1 0.001\r\n"
       ]
      }
     ],
     "prompt_number": 113
    },
    {
     "cell_type": "code",
     "collapsed": false,
     "input": [
      "cat datalistp.mb-1"
     ],
     "language": "python",
     "metadata": {},
     "outputs": [
      {
       "output_type": "stream",
       "stream": "stdout",
       "text": [
        "$PROCESSED\r\n",
        "datalist.mb-1\r\n"
       ]
      }
     ],
     "prompt_number": 114
    },
    {
     "cell_type": "code",
     "collapsed": false,
     "input": [
      "cat MBARI1998EM300/datalist.mb-1"
     ],
     "language": "python",
     "metadata": {},
     "outputs": [
      {
       "output_type": "stream",
       "stream": "stdout",
       "text": [
        "mbari_1998_53_msn.mb57 57\r\n",
        "mbari_1998_54_msn.mb57 57\r\n",
        "mbari_1998_55_msn.mb57 57\r\n",
        "mbari_1998_56_msn.mb57 57\r\n",
        "mbari_1998_57_msn.mb57 57\r\n",
        "mbari_1998_58_msn.mb57 57\r\n",
        "mbari_1998_59_msn.mb57 57\r\n",
        "mbari_1998_60_msn.mb57 57\r\n",
        "mbari_1998_61_msn.mb57 57\r\n"
       ]
      }
     ],
     "prompt_number": 115
    },
    {
     "cell_type": "code",
     "collapsed": false,
     "input": [
      "cd MBARI1998EM300"
     ],
     "language": "python",
     "metadata": {},
     "outputs": [
      {
       "output_type": "stream",
       "stream": "stdout",
       "text": [
        "/Users/schwehr/Desktop/mbcookbook/loihi/MBARI1998EM300"
       ]
      },
      {
       "output_type": "stream",
       "stream": "stdout",
       "text": [
        "\n"
       ]
      }
     ],
     "prompt_number": 116
    },
    {
     "cell_type": "code",
     "collapsed": false,
     "input": [
      "ls"
     ],
     "language": "python",
     "metadata": {},
     "outputs": [
      {
       "output_type": "stream",
       "stream": "stdout",
       "text": [
        "README                  mbari_1998_53_msn.mb57  mbari_1998_55_msn.mb57  mbari_1998_57_msn.mb57  mbari_1998_59_msn.mb57  mbari_1998_61_msn.mb57\r\n",
        "datalist.mb-1           mbari_1998_54_msn.mb57  mbari_1998_56_msn.mb57  mbari_1998_58_msn.mb57  mbari_1998_60_msn.mb57\r\n"
       ]
      }
     ],
     "prompt_number": 117
    },
    {
     "cell_type": "code",
     "collapsed": false,
     "input": [
      "ls *.mb57 > list"
     ],
     "language": "python",
     "metadata": {},
     "outputs": [],
     "prompt_number": 118
    },
    {
     "cell_type": "code",
     "collapsed": false,
     "input": [
      "cat list"
     ],
     "language": "python",
     "metadata": {},
     "outputs": [
      {
       "output_type": "stream",
       "stream": "stdout",
       "text": [
        "mbari_1998_53_msn.mb57\r\n",
        "mbari_1998_54_msn.mb57\r\n",
        "mbari_1998_55_msn.mb57\r\n",
        "mbari_1998_56_msn.mb57\r\n",
        "mbari_1998_57_msn.mb57\r\n",
        "mbari_1998_58_msn.mb57\r\n",
        "mbari_1998_59_msn.mb57\r\n",
        "mbari_1998_60_msn.mb57\r\n",
        "mbari_1998_61_msn.mb57\r\n"
       ]
      }
     ],
     "prompt_number": 119
    },
    {
     "cell_type": "code",
     "collapsed": false,
     "input": [
      "!mbdatalist -Ilist"
     ],
     "language": "python",
     "metadata": {},
     "outputs": [
      {
       "output_type": "stream",
       "stream": "stdout",
       "text": [
        "mbari_1998_53_msn.mb57 57 1.000000\r\n",
        "mbari_1998_54_msn.mb57 57 1.000000\r\n",
        "mbari_1998_55_msn.mb57 57 1.000000\r\n",
        "mbari_1998_56_msn.mb57 57 1.000000\r\n",
        "mbari_1998_57_msn.mb57 57 1.000000\r\n",
        "mbari_1998_58_msn.mb57 57 1.000000\r\n",
        "mbari_1998_59_msn.mb57 57 1.000000\r\n",
        "mbari_1998_60_msn.mb57 57 1.000000\r\n",
        "mbari_1998_61_msn.mb57 57 1.000000\r\n"
       ]
      }
     ],
     "prompt_number": 121
    },
    {
     "cell_type": "code",
     "collapsed": false,
     "input": [
      "!rm list"
     ],
     "language": "python",
     "metadata": {},
     "outputs": [
      {
       "output_type": "stream",
       "stream": "stdout",
       "text": [
        "rm: list: No such file or directory\r\n"
       ]
      }
     ],
     "prompt_number": 127
    },
    {
     "cell_type": "heading",
     "level": 4,
     "metadata": {},
     "source": [
      "4.4.1.2 The Benefit"
     ]
    },
    {
     "cell_type": "code",
     "collapsed": false,
     "input": [
      "cd .."
     ],
     "language": "python",
     "metadata": {},
     "outputs": []
    },
    {
     "cell_type": "code",
     "collapsed": false,
     "input": [
      "pwd"
     ],
     "language": "python",
     "metadata": {},
     "outputs": [
      {
       "output_type": "pyout",
       "prompt_number": 128,
       "text": [
        "u'/Users/schwehr/Desktop/mbcookbook/loihi'"
       ]
      }
     ],
     "prompt_number": 128
    },
    {
     "cell_type": "code",
     "collapsed": false,
     "input": [
      "# This command will take a minute or 2 to run.\n",
      "!mbinfo -Idatalist.mb-1 | grep -A 40 'Data Totals:'"
     ],
     "language": "python",
     "metadata": {},
     "outputs": [
      {
       "output_type": "stream",
       "stream": "stdout",
       "text": [
        "Data Totals:\r\n",
        "Number of Records:                      191764\r\n",
        "Bathymetry Data (135 beams):\r\n",
        "  Number of Beams:         12119082\r\n",
        "  Number of Good Beams:     9469099     78.13%\r\n",
        "  Number of Zero Beams:     1590395     13.12%\r\n",
        "  Number of Flagged Beams:  1059588      8.74%\r\n",
        "Amplitude Data (135 beams):\r\n",
        "  Number of Beams:          7285751\r\n",
        "  Number of Good Beams:     6054808     83.10%\r\n",
        "  Number of Zero Beams:      608084      8.35%\r\n",
        "  Number of Flagged Beams:   622859      8.55%\r\n",
        "Sidescan Data (1024 pixels):\r\n",
        "  Number of Pixels:        10155008\r\n",
        "  Number of Good Pixels:   10153984     99.99%\r\n",
        "  Number of Zero Pixels:          0      0.00%\r\n",
        "  Number of Flagged Pixels:    1024      0.01%\r\n",
        "\r\n",
        "Navigation Totals:\r\n",
        "Total Time:         -49797.0534 hours\r\n",
        "Total Track Length: 36092.8118 km\r\n",
        "Average Speed:          0.0000 km/hr ( 0.0000 knots)\r\n",
        "\r\n",
        "Start of Data:\r\n",
        "Time:  06 21 1997 19:01:07.393000  JD172 (1997-06-21T19:01:07.393000)\r\n",
        "Lon:  -155.221418300     Lat:    18.882305500     Depth:   301.0800 meters\r\n",
        "Speed:  1.9631 km/hr ( 1.0611 knots)  Heading: 229.1400 degrees\r\n",
        "Sonar Depth:    0.4300 m  Sonar Altitude:  300.6500 m\r\n",
        "\r\n",
        "End of Data:\r\n",
        "Time:  10 16 1991 21:57:55.000000  JD289 (1991-10-16T21:57:55.000000)\r\n",
        "Lon:  -157.878166667     Lat:    21.285280000     Depth:    33.0000 meters\r\n",
        "Speed: 20.5175 km/hr (11.0906 knots)  Heading:  31.2014 degrees\r\n",
        "Sonar Depth:    0.0000 m  Sonar Altitude:   33.0000 m\r\n",
        "\r\n",
        "Limits:\r\n",
        "Minimum Longitude:    -157.880116086   Maximum Longitude:    -153.382906577\r\n",
        "Minimum Latitude:       18.568354360   Maximum Latitude:       21.285303394\r\n",
        "Minimum Sonar Depth:    -2.6500   Maximum Sonar Depth:  1530.4800\r\n",
        "Minimum Altitude:    -1498.0800   Maximum Altitude:     5483.1300\r\n",
        "Minimum Depth:           0.0600   Maximum Depth:        5605.0000\r\n"
       ]
      }
     ],
     "prompt_number": 131
    },
    {
     "cell_type": "code",
     "collapsed": false,
     "input": [
      "!mbdatalist -I datalist.mb-1 -R155.5/155/18.7/19.2 "
     ],
     "language": "python",
     "metadata": {},
     "outputs": [
      {
       "output_type": "stream",
       "stream": "stdout",
       "text": [
        "MBARI1998EM300/mbari_1998_53_msn.mb57 57 1.000000\r\n",
        "MBARI1998EM300/mbari_1998_54_msn.mb57 57 1.000000\r\n",
        "MBARI1998EM300/mbari_1998_55_msn.mb57 57 1.000000\r\n",
        "MBARI1998EM300/mbari_1998_56_msn.mb57 57 1.000000\r\n",
        "MBARI1998EM300/mbari_1998_57_msn.mb57 57 1.000000\r\n",
        "MBARI1998EM300/mbari_1998_58_msn.mb57 57 1.000000\r\n",
        "MBARI1998EM300/mbari_1998_59_msn.mb57 57 1.000000\r\n",
        "MBARI1998EM300/mbari_1998_60_msn.mb57 57 1.000000\r\n",
        "MBARI1998EM300/mbari_1998_61_msn.mb57 57 1.000000\r\n"
       ]
      }
     ],
     "prompt_number": 137
    },
    {
     "cell_type": "code",
     "collapsed": false,
     "input": [
      "# The above list does not match the cookbook.\n",
      "!mbdatalist -I datalist.mb-1 | wc -l"
     ],
     "language": "python",
     "metadata": {},
     "outputs": [
      {
       "output_type": "stream",
       "stream": "stdout",
       "text": [
        "      31\r\n"
       ]
      }
     ],
     "prompt_number": 138
    },
    {
     "cell_type": "code",
     "collapsed": false,
     "input": [
      "!wc -l datalist.mb-1"
     ],
     "language": "python",
     "metadata": {},
     "outputs": [
      {
       "output_type": "stream",
       "stream": "stdout",
       "text": [
        "       4 datalist.mb-1\r\n"
       ]
      }
     ],
     "prompt_number": 135
    },
    {
     "cell_type": "code",
     "collapsed": false,
     "input": [],
     "language": "python",
     "metadata": {},
     "outputs": []
    }
   ],
   "metadata": {}
  }
 ]
}
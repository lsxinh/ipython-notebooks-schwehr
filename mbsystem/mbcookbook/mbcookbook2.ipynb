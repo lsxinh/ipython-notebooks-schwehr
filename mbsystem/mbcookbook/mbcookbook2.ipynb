{
 "metadata": {
  "name": "mbcookbook2"
 },
 "nbformat": 3,
 "nbformat_minor": 0,
 "worksheets": [
  {
   "cells": [
    {
     "cell_type": "markdown",
     "metadata": {},
     "source": [
      "4.4.1 Ancillary Files"
     ]
    },
    {
     "cell_type": "code",
     "collapsed": false,
     "input": [
      "cd loihi"
     ],
     "language": "python",
     "metadata": {},
     "outputs": [
      {
       "output_type": "stream",
       "stream": "stdout",
       "text": [
        "/Users/schwehr/Desktop/mbcookbook/loihi\n"
       ]
      }
     ],
     "prompt_number": 1
    },
    {
     "cell_type": "code",
     "collapsed": false,
     "input": [
      "cd MBARI1998EM300"
     ],
     "language": "python",
     "metadata": {},
     "outputs": [
      {
       "output_type": "stream",
       "stream": "stdout",
       "text": [
        "/Users/schwehr/Desktop/mbcookbook/loihi/MBARI1998EM300\n"
       ]
      }
     ],
     "prompt_number": 2
    },
    {
     "cell_type": "code",
     "collapsed": false,
     "input": [
      "ls -lh"
     ],
     "language": "python",
     "metadata": {},
     "outputs": [
      {
       "output_type": "stream",
       "stream": "stdout",
       "text": [
        "total 285024\r\n",
        "-rw-r--r--  1 schwehr  5000   139B Nov 25  2002 README\r\n",
        "-rw-r--r--  1 schwehr  5000   234B Nov 25  2002 datalist.mb-1\r\n",
        "-rw-r--r--  1 schwehr  5000    30M Nov 25  2002 mbari_1998_53_msn.mb57\r\n",
        "-rw-r--r--  1 schwehr  5000   8.9M Nov 25  2002 mbari_1998_54_msn.mb57\r\n",
        "-rw-r--r--  1 schwehr  5000   5.9M Nov 25  2002 mbari_1998_55_msn.mb57\r\n",
        "-rw-r--r--  1 schwehr  5000   3.6M Nov 25  2002 mbari_1998_56_msn.mb57\r\n",
        "-rw-r--r--  1 schwehr  5000    44M Nov 25  2002 mbari_1998_57_msn.mb57\r\n",
        "-rw-r--r--  1 schwehr  5000   7.5M Nov 25  2002 mbari_1998_58_msn.mb57\r\n",
        "-rw-r--r--  1 schwehr  5000   7.0M Nov 25  2002 mbari_1998_59_msn.mb57\r\n",
        "-rw-r--r--  1 schwehr  5000   5.7M Nov 25  2002 mbari_1998_60_msn.mb57\r\n",
        "-rw-r--r--  1 schwehr  5000    26M Nov 25  2002 mbari_1998_61_msn.mb57\r\n"
       ]
      }
     ],
     "prompt_number": 3
    },
    {
     "cell_type": "code",
     "collapsed": false,
     "input": [
      "!mbdatalist -I datalist.mb-1 -N"
     ],
     "language": "python",
     "metadata": {},
     "outputs": [],
     "prompt_number": 5
    },
    {
     "cell_type": "code",
     "collapsed": false,
     "input": [
      "ls"
     ],
     "language": "python",
     "metadata": {},
     "outputs": [
      {
       "output_type": "stream",
       "stream": "stdout",
       "text": [
        "README                      mbari_1998_55_msn.mb57      mbari_1998_57_msn.mb57.fnv  mbari_1998_60_msn.mb57\r\n",
        "datalist.mb-1               mbari_1998_55_msn.mb57.fbt  mbari_1998_57_msn.mb57.inf  mbari_1998_60_msn.mb57.fbt\r\n",
        "mbari_1998_53_msn.mb57      mbari_1998_55_msn.mb57.fnv  mbari_1998_58_msn.mb57      mbari_1998_60_msn.mb57.fnv\r\n",
        "mbari_1998_53_msn.mb57.fbt  mbari_1998_55_msn.mb57.inf  mbari_1998_58_msn.mb57.fbt  mbari_1998_60_msn.mb57.inf\r\n",
        "mbari_1998_53_msn.mb57.fnv  mbari_1998_56_msn.mb57      mbari_1998_58_msn.mb57.fnv  mbari_1998_61_msn.mb57\r\n",
        "mbari_1998_53_msn.mb57.inf  mbari_1998_56_msn.mb57.fbt  mbari_1998_58_msn.mb57.inf  mbari_1998_61_msn.mb57.fbt\r\n",
        "mbari_1998_54_msn.mb57      mbari_1998_56_msn.mb57.fnv  mbari_1998_59_msn.mb57      mbari_1998_61_msn.mb57.fnv\r\n",
        "mbari_1998_54_msn.mb57.fbt  mbari_1998_56_msn.mb57.inf  mbari_1998_59_msn.mb57.fbt  mbari_1998_61_msn.mb57.inf\r\n",
        "mbari_1998_54_msn.mb57.fnv  mbari_1998_57_msn.mb57      mbari_1998_59_msn.mb57.fnv\r\n",
        "mbari_1998_54_msn.mb57.inf  mbari_1998_57_msn.mb57.fbt  mbari_1998_59_msn.mb57.inf\r\n"
       ]
      }
     ],
     "prompt_number": 6
    },
    {
     "cell_type": "markdown",
     "metadata": {},
     "source": [
      "4.4.4 Surveying your Survey - Revisited"
     ]
    },
    {
     "cell_type": "code",
     "collapsed": false,
     "input": [
      "!mbm_plot -I datalist.mb-1 -N\n",
      "!./datalist.mb-1.cmd 2>&1 | tail -5\n",
      "!convert datalist.mb-1.{ps,png}\n",
      "imshow(imread('datalist.mb-1.png'), cmap=get_cmap('gray'))\n",
      "!open datalist.mb-1.ps"
     ],
     "language": "python",
     "metadata": {},
     "outputs": [
      {
       "output_type": "stream",
       "stream": "stdout",
       "text": [
        "\r\n",
        "Plot generation shellscript <datalist.mb-1.cmd> created.\r\n",
        "\r\n",
        "Instructions:\r\n",
        "  Execute <datalist.mb-1.cmd> to generate Postscript plot <datalist.mb-1.ps>.\r\n",
        "  Executing <datalist.mb-1.cmd> also invokes ghostview to view the plot on the screen.\r\n"
       ]
      },
      {
       "output_type": "stream",
       "stream": "stdout",
       "text": [
        "Resetting GMT fonts...\r\n",
        "Running ghostview in background...\r\n",
        "[1] 92707\r\n",
        "All done!\r\n",
        "ghostview: Command not found.\r\n"
       ]
      },
      {
       "output_type": "display_data",
       "png": "[encoded data removed]"
      }
     ],
     "prompt_number": 11
    },
    {
     "cell_type": "code",
     "collapsed": false,
     "input": [
      "!mbm_plot -F-1 -I datalist.mb-1 -N -R-155.33/-155.14/18.7/19.15\n",
      "!./datalist.mb-1.cmd 2>&1 | tail -5\n",
      "!convert datalist.mb-1.{ps,png}\n",
      "imshow(imread('datalist.mb-1.png'), cmap=get_cmap('gray'))\n",
      "# !open datalist.mb-1.ps"
     ],
     "language": "python",
     "metadata": {},
     "outputs": [
      {
       "output_type": "stream",
       "stream": "stdout",
       "text": [
        "\r\n",
        "Plot generation shellscript <datalist.mb-1.cmd> created.\r\n",
        "\r\n",
        "Instructions:\r\n",
        "  Execute <datalist.mb-1.cmd> to generate Postscript plot <datalist.mb-1.ps>.\r\n",
        "  Executing <datalist.mb-1.cmd> also invokes ghostview to view the plot on the screen.\r\n"
       ]
      },
      {
       "output_type": "stream",
       "stream": "stdout",
       "text": [
        "Resetting GMT fonts...\r\n",
        "Running ghostview in background...\r\n",
        "[1] 93389\r\n",
        "All done!\r\n",
        "ghostview: Command not found.\r\n"
       ]
      },
      {
       "output_type": "pyout",
       "prompt_number": 13,
       "text": [
        "<matplotlib.image.AxesImage at 0x109454850>"
       ]
      },
      {
       "output_type": "display_data",
       "png": "[encoded data removed]"
      }
     ],
     "prompt_number": 13
    },
    {
     "cell_type": "code",
     "collapsed": false,
     "input": [
      "!mbm_plot -I datalist.mb-1 -C -G1\n",
      "!./datalist.mb-1.cmd 2>&1 | tail -5\n",
      "!convert datalist.mb-1.{ps,png}\n",
      "imshow(imread('datalist.mb-1.png')) # , cmap=get_cmap('gray'))\n",
      "# !open datalist.mb-1.ps"
     ],
     "language": "python",
     "metadata": {},
     "outputs": [
      {
       "output_type": "stream",
       "stream": "stdout",
       "text": [
        "\r\n",
        "Plot generation shellscript <datalist.mb-1.cmd> created.\r\n",
        "\r\n",
        "Instructions:\r\n",
        "  Execute <datalist.mb-1.cmd> to generate Postscript plot <datalist.mb-1.ps>.\r\n",
        "  Executing <datalist.mb-1.cmd> also invokes ghostview to view the plot on the screen.\r\n"
       ]
      },
      {
       "output_type": "stream",
       "stream": "stdout",
       "text": [
        "Resetting GMT fonts...\r\n",
        "Running ghostview in background...\r\n",
        "[1] 93483\r\n",
        "All done!\r\n",
        "ghostview: Command not found.\r\n"
       ]
      },
      {
       "output_type": "display_data",
       "png": "[encoded data removed]"
      }
     ],
     "prompt_number": 15
    },
    {
     "cell_type": "code",
     "collapsed": false,
     "input": [
      "cd .."
     ],
     "language": "python",
     "metadata": {},
     "outputs": [
      {
       "output_type": "stream",
       "stream": "stdout",
       "text": [
        "/Users/schwehr/Desktop/mbcookbook/loihi"
       ]
      },
      {
       "output_type": "stream",
       "stream": "stdout",
       "text": [
        "\n"
       ]
      }
     ],
     "prompt_number": 16
    },
    {
     "cell_type": "code",
     "collapsed": false,
     "input": [
      "!mbinfo -I MBARI1998EM300/datalist.mb-1 | grep -A 40 'Data Totals'"
     ],
     "language": "python",
     "metadata": {},
     "outputs": [
      {
       "output_type": "stream",
       "stream": "stdout",
       "text": [
        "Data Totals:\r\n",
        "Number of Records:                        9917\r\n",
        "Bathymetry Data (135 beams):\r\n",
        "  Number of Beams:          1338795\r\n",
        "  Number of Good Beams:     1207888     90.22%\r\n",
        "  Number of Zero Beams:       79143      5.91%\r\n",
        "  Number of Flagged Beams:    51764      3.87%\r\n",
        "Amplitude Data (135 beams):\r\n",
        "  Number of Beams:          1338795\r\n",
        "  Number of Good Beams:     1207888     90.22%\r\n",
        "  Number of Zero Beams:       79143      5.91%\r\n",
        "  Number of Flagged Beams:    51764      3.87%\r\n",
        "Sidescan Data (1024 pixels):\r\n",
        "  Number of Pixels:        10155008\r\n",
        "  Number of Good Pixels:   10153984     99.99%\r\n",
        "  Number of Zero Pixels:          0      0.00%\r\n",
        "  Number of Flagged Pixels:    1024      0.01%\r\n",
        "\r\n",
        "Navigation Totals:\r\n",
        "Total Time:            15.4770 hours\r\n",
        "Total Track Length:   286.9084 km\r\n",
        "Average Speed:         18.5377 km/hr (10.0204 knots)\r\n",
        "\r\n",
        "Start of Data:\r\n",
        "Time:  03 02 1998 20:06:01.740000  JD61 (1998-03-02T20:06:01.740000)\r\n",
        "Lon:  -154.798805300     Lat:    19.473399550     Depth:  1000.6700 meters\r\n",
        "Speed:  0.0000 km/hr ( 0.0000 knots)  Heading: 243.2100 degrees\r\n",
        "Sonar Depth:    6.0700 m  Sonar Altitude:  994.6000 m\r\n",
        "\r\n",
        "End of Data:\r\n",
        "Time:  03 03 1998 11:34:38.985000  JD62 (1998-03-03T11:34:38.985000)\r\n",
        "Lon:  -154.793818600     Lat:    19.445800850     Depth:  1502.0900 meters\r\n",
        "Speed: 18.0000 km/hr ( 9.7297 knots)  Heading:  59.4300 degrees\r\n",
        "Sonar Depth:    5.0100 m  Sonar Altitude: 1497.0800 m\r\n",
        "\r\n",
        "Limits:\r\n",
        "Minimum Longitude:    -155.341233539   Maximum Longitude:    -154.778216873\r\n",
        "Minimum Latitude:       18.661225521   Maximum Latitude:       19.487286286\r\n",
        "Minimum Sonar Depth:     3.8700   Maximum Sonar Depth:     7.4600\r\n",
        "Minimum Altitude:      700.2800   Maximum Altitude:     4867.2000\r\n",
        "Minimum Depth:         331.8400   Maximum Depth:        4919.0700\r\n"
       ]
      }
     ],
     "prompt_number": 18
    },
    {
     "cell_type": "heading",
     "level": 2,
     "metadata": {},
     "source": [
      "4.5 Determin Roll and Pitch Bias"
     ]
    },
    {
     "cell_type": "code",
     "collapsed": false,
     "input": [],
     "language": "python",
     "metadata": {},
     "outputs": []
    }
   ],
   "metadata": {}
  }
 ]
}